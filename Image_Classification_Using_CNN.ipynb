{
 "cells": [
  {
   "cell_type": "code",
   "execution_count": 1,
   "id": "3d26d2b5-2ad6-41f2-b324-d040fe16a8e9",
   "metadata": {},
   "outputs": [],
   "source": [
    "import os\n",
    "import numpy as np\n",
    "from PIL import Image, ImageTk\n",
    "from io import BytesIO\n",
    "\n",
    "import requests\n",
    "from tkinter import Tk, Label, Canvas, Entry, Button, NW\n",
    "\n",
    "from keras.models import Sequential, load_model\n",
    "from keras.layers import Conv2D, MaxPooling2D, Flatten, Dense\n",
    "from keras.preprocessing.image import ImageDataGenerator, load_img, img_to_array\n",
    "from keras.preprocessing import image as image_utils\n"
   ]
  },
  {
   "cell_type": "code",
   "execution_count": 2,
   "id": "49756e49-9df7-4c9b-9ee8-dbd998cae7b7",
   "metadata": {},
   "outputs": [],
   "source": [
    "model = Sequential()\n",
    "\n",
    "#------- input layer----\n",
    "\n",
    "model.add(Conv2D(32, (3, 3), input_shape = (128, 128, 3), activation = \"relu\"))\n",
    "model.add(MaxPooling2D(pool_size = (2, 2)))\n",
    "# -----------------\n",
    "\n",
    "#--------- hidden layer-------\n",
    "# here 64 is for ascending order in hidden layer (..., 32, 64, 128, 512, ...)\n",
    "# for descending order in hidden layer (..., 512, 128, 64, 32, ...)\n",
    "\n",
    "model.add(Conv2D(64, (3, 3), activation = \"relu\"))\n",
    "model.add(MaxPooling2D(pool_size = (2, 2)))\n",
    "\n",
    "model.add(Conv2D(128, (3, 3), activation = \"relu\"))\n",
    "model.add(MaxPooling2D(pool_size = (2, 2)))\n",
    "#-------------------------\n",
    "\n",
    "\n",
    "#--- create bridge-------\n",
    "# (for connecting b2n hidden layer and output layer)\n",
    "\n",
    "model.add(Flatten())\n",
    "#------------------\n",
    "\n",
    "#----- output layer-----------\n",
    "# for avoiding problems we will not create output layer directly, So, create FFNN\n",
    "# 128 should be the same or equal to avoid collision\n",
    "\n",
    "model.add(Dense(128, activation = \"relu\")) \n",
    "model.add(Dense(3, activation = \"softmax\")) "
   ]
  },
  {
   "cell_type": "code",
   "execution_count": 3,
   "id": "87e82885-384c-4ee9-a170-01be07fb33ac",
   "metadata": {},
   "outputs": [],
   "source": [
    "model.compile(optimizer= \"adam\",\n",
    "             loss = \"categorical_crossentropy\",\n",
    "             metrics = [\"accuracy\"])"
   ]
  },
  {
   "cell_type": "code",
   "execution_count": 4,
   "id": "e73a7af3-ff2a-4a72-ade5-72e2cd051bd1",
   "metadata": {},
   "outputs": [],
   "source": [
    "train_datagen = ImageDataGenerator(rescale = 1.0/255,\n",
    "                                  shear_range = 0.2, \n",
    "                                  zoom_range = 0.2,\n",
    "                                  horizontal_flip = True)"
   ]
  },
  {
   "cell_type": "code",
   "execution_count": 5,
   "id": "b342a6b7-ade1-4f49-8266-5c8f1693c7bd",
   "metadata": {},
   "outputs": [],
   "source": [
    "test_datagen = ImageDataGenerator(rescale = 1.0/255)"
   ]
  },
  {
   "cell_type": "code",
   "execution_count": 6,
   "id": "792429d7-b0df-4cc8-88e0-a3bd10b93e9f",
   "metadata": {},
   "outputs": [
    {
     "name": "stdout",
     "output_type": "stream",
     "text": [
      "Found 2401 images belonging to 3 classes.\n",
      "Found 600 images belonging to 3 classes.\n"
     ]
    }
   ],
   "source": [
    "training_datasets = train_datagen.flow_from_directory(\"dataset/training_set\", target_size = (128, 128), batch_size = 32, class_mode = \"categorical\") # local directory\n",
    "testing_datasets = test_datagen.flow_from_directory(\"dataset/test_set\", target_size = (128, 128), batch_size = 32, class_mode = \"categorical\") "
   ]
  },
  {
   "cell_type": "code",
   "execution_count": 7,
   "id": "b4308f5f-422d-4b62-abd3-349951068279",
   "metadata": {},
   "outputs": [
    {
     "name": "stdout",
     "output_type": "stream",
     "text": [
      "Epoch 1/50\n",
      "25/25 [==============================] - 23s 905ms/step - loss: 1.2049 - accuracy: 0.3413 - val_loss: 1.0894 - val_accuracy: 0.3259\n",
      "Epoch 2/50\n",
      "25/25 [==============================] - 24s 937ms/step - loss: 1.0857 - accuracy: 0.4013 - val_loss: 1.0395 - val_accuracy: 0.5000\n",
      "Epoch 3/50\n",
      "25/25 [==============================] - 23s 919ms/step - loss: 1.0662 - accuracy: 0.4300 - val_loss: 1.0227 - val_accuracy: 0.4821\n",
      "Epoch 4/50\n",
      "25/25 [==============================] - 22s 867ms/step - loss: 1.0051 - accuracy: 0.5175 - val_loss: 1.0081 - val_accuracy: 0.5357\n",
      "Epoch 5/50\n",
      "25/25 [==============================] - 21s 845ms/step - loss: 0.9750 - accuracy: 0.5113 - val_loss: 0.9039 - val_accuracy: 0.5402\n",
      "Epoch 6/50\n",
      "25/25 [==============================] - 21s 844ms/step - loss: 0.9133 - accuracy: 0.5600 - val_loss: 1.0549 - val_accuracy: 0.4866\n",
      "Epoch 7/50\n",
      "25/25 [==============================] - 21s 853ms/step - loss: 0.9873 - accuracy: 0.5238 - val_loss: 0.8802 - val_accuracy: 0.5714\n",
      "Epoch 8/50\n",
      "25/25 [==============================] - 22s 866ms/step - loss: 0.9214 - accuracy: 0.5525 - val_loss: 0.8095 - val_accuracy: 0.6429\n",
      "Epoch 9/50\n",
      "25/25 [==============================] - 22s 870ms/step - loss: 0.8656 - accuracy: 0.5725 - val_loss: 0.9253 - val_accuracy: 0.5625\n",
      "Epoch 10/50\n",
      "25/25 [==============================] - 22s 874ms/step - loss: 0.8282 - accuracy: 0.5863 - val_loss: 0.7875 - val_accuracy: 0.6696\n",
      "Epoch 11/50\n",
      "25/25 [==============================] - 22s 857ms/step - loss: 0.8447 - accuracy: 0.5900 - val_loss: 0.7906 - val_accuracy: 0.5938\n",
      "Epoch 12/50\n",
      "25/25 [==============================] - 25s 993ms/step - loss: 0.7988 - accuracy: 0.6050 - val_loss: 0.7340 - val_accuracy: 0.6429\n",
      "Epoch 13/50\n",
      "25/25 [==============================] - 24s 963ms/step - loss: 0.8141 - accuracy: 0.6268 - val_loss: 0.7778 - val_accuracy: 0.6295\n",
      "Epoch 14/50\n",
      "25/25 [==============================] - 26s 1s/step - loss: 0.8593 - accuracy: 0.6087 - val_loss: 0.7362 - val_accuracy: 0.6607\n",
      "Epoch 15/50\n",
      "25/25 [==============================] - 23s 967ms/step - loss: 0.8212 - accuracy: 0.6281 - val_loss: 0.7488 - val_accuracy: 0.6429\n",
      "Epoch 16/50\n",
      "25/25 [==============================] - 24s 954ms/step - loss: 0.7418 - accuracy: 0.6700 - val_loss: 0.7064 - val_accuracy: 0.6920\n",
      "Epoch 17/50\n",
      "25/25 [==============================] - 23s 900ms/step - loss: 0.7517 - accuracy: 0.6606 - val_loss: 0.7189 - val_accuracy: 0.6473\n",
      "Epoch 18/50\n",
      "25/25 [==============================] - 25s 977ms/step - loss: 0.7704 - accuracy: 0.6567 - val_loss: 0.8346 - val_accuracy: 0.5938\n",
      "Epoch 19/50\n",
      "25/25 [==============================] - 24s 975ms/step - loss: 0.7076 - accuracy: 0.6988 - val_loss: 0.6382 - val_accuracy: 0.7054\n",
      "Epoch 20/50\n",
      "25/25 [==============================] - 25s 1s/step - loss: 0.6848 - accuracy: 0.6862 - val_loss: 0.6874 - val_accuracy: 0.6295\n",
      "Epoch 21/50\n",
      "25/25 [==============================] - 26s 1s/step - loss: 0.7024 - accuracy: 0.6975 - val_loss: 0.6276 - val_accuracy: 0.7589\n",
      "Epoch 22/50\n",
      "25/25 [==============================] - 23s 912ms/step - loss: 0.7239 - accuracy: 0.6658 - val_loss: 0.6805 - val_accuracy: 0.6741\n",
      "Epoch 23/50\n",
      "25/25 [==============================] - 23s 920ms/step - loss: 0.6669 - accuracy: 0.6913 - val_loss: 0.7608 - val_accuracy: 0.6562\n",
      "Epoch 24/50\n",
      "25/25 [==============================] - 23s 911ms/step - loss: 0.7014 - accuracy: 0.6658 - val_loss: 0.5783 - val_accuracy: 0.7723\n",
      "Epoch 25/50\n",
      "25/25 [==============================] - 23s 899ms/step - loss: 0.6647 - accuracy: 0.7139 - val_loss: 0.6579 - val_accuracy: 0.7143\n",
      "Epoch 26/50\n",
      "25/25 [==============================] - 23s 930ms/step - loss: 0.5603 - accuracy: 0.7613 - val_loss: 0.5919 - val_accuracy: 0.7366\n",
      "Epoch 27/50\n",
      "25/25 [==============================] - 23s 913ms/step - loss: 0.6526 - accuracy: 0.7230 - val_loss: 0.6269 - val_accuracy: 0.7232\n",
      "Epoch 28/50\n",
      "25/25 [==============================] - 25s 1s/step - loss: 0.5502 - accuracy: 0.7763 - val_loss: 0.5725 - val_accuracy: 0.7857\n",
      "Epoch 29/50\n",
      "25/25 [==============================] - 22s 893ms/step - loss: 0.5583 - accuracy: 0.7663 - val_loss: 0.5290 - val_accuracy: 0.7679\n",
      "Epoch 30/50\n",
      "25/25 [==============================] - 20s 808ms/step - loss: 0.5059 - accuracy: 0.7802 - val_loss: 0.4914 - val_accuracy: 0.7768\n",
      "Epoch 31/50\n",
      "25/25 [==============================] - 22s 872ms/step - loss: 0.5772 - accuracy: 0.7500 - val_loss: 0.5610 - val_accuracy: 0.7768\n",
      "Epoch 32/50\n",
      "25/25 [==============================] - 23s 906ms/step - loss: 0.5411 - accuracy: 0.7875 - val_loss: 0.4641 - val_accuracy: 0.8393\n",
      "Epoch 33/50\n",
      "25/25 [==============================] - 22s 859ms/step - loss: 0.4989 - accuracy: 0.7912 - val_loss: 0.6555 - val_accuracy: 0.7634\n",
      "Epoch 34/50\n",
      "25/25 [==============================] - 21s 845ms/step - loss: 0.4898 - accuracy: 0.8012 - val_loss: 0.4879 - val_accuracy: 0.8170\n",
      "Epoch 35/50\n",
      "25/25 [==============================] - 21s 827ms/step - loss: 0.4730 - accuracy: 0.8140 - val_loss: 0.5254 - val_accuracy: 0.7768\n",
      "Epoch 36/50\n",
      "25/25 [==============================] - 21s 817ms/step - loss: 0.5125 - accuracy: 0.7893 - val_loss: 0.5586 - val_accuracy: 0.7946\n",
      "Epoch 37/50\n",
      "25/25 [==============================] - 20s 806ms/step - loss: 0.5310 - accuracy: 0.7919 - val_loss: 0.5114 - val_accuracy: 0.7991\n",
      "Epoch 38/50\n",
      "25/25 [==============================] - 21s 851ms/step - loss: 0.4831 - accuracy: 0.8012 - val_loss: 0.5716 - val_accuracy: 0.7634\n",
      "Epoch 39/50\n",
      "25/25 [==============================] - 21s 826ms/step - loss: 0.5597 - accuracy: 0.7620 - val_loss: 0.5446 - val_accuracy: 0.8304\n",
      "Epoch 40/50\n",
      "25/25 [==============================] - 21s 825ms/step - loss: 0.4997 - accuracy: 0.7932 - val_loss: 0.5812 - val_accuracy: 0.7812\n",
      "Epoch 41/50\n",
      "25/25 [==============================] - 22s 883ms/step - loss: 0.4592 - accuracy: 0.8213 - val_loss: 0.5727 - val_accuracy: 0.7545\n",
      "Epoch 42/50\n",
      "25/25 [==============================] - 22s 860ms/step - loss: 0.3814 - accuracy: 0.8575 - val_loss: 0.4755 - val_accuracy: 0.8214\n",
      "Epoch 43/50\n",
      "25/25 [==============================] - 21s 857ms/step - loss: 0.4332 - accuracy: 0.8238 - val_loss: 0.4921 - val_accuracy: 0.7857\n",
      "Epoch 44/50\n",
      "25/25 [==============================] - 22s 884ms/step - loss: 0.3929 - accuracy: 0.8550 - val_loss: 0.6655 - val_accuracy: 0.7768\n",
      "Epoch 45/50\n",
      "25/25 [==============================] - 23s 930ms/step - loss: 0.4243 - accuracy: 0.8363 - val_loss: 0.3481 - val_accuracy: 0.8661\n",
      "Epoch 46/50\n",
      "25/25 [==============================] - 22s 867ms/step - loss: 0.3636 - accuracy: 0.8531 - val_loss: 0.4449 - val_accuracy: 0.8393\n",
      "Epoch 47/50\n",
      "25/25 [==============================] - 22s 878ms/step - loss: 0.4004 - accuracy: 0.8450 - val_loss: 0.5953 - val_accuracy: 0.7902\n",
      "Epoch 48/50\n",
      "25/25 [==============================] - 23s 912ms/step - loss: 0.3279 - accuracy: 0.8737 - val_loss: 0.3461 - val_accuracy: 0.8616\n",
      "Epoch 49/50\n",
      "25/25 [==============================] - 20s 802ms/step - loss: 0.3584 - accuracy: 0.8596 - val_loss: 0.5494 - val_accuracy: 0.8304\n",
      "Epoch 50/50\n",
      "25/25 [==============================] - 20s 777ms/step - loss: 0.5083 - accuracy: 0.7594 - val_loss: 0.5805 - val_accuracy: 0.7679\n"
     ]
    },
    {
     "data": {
      "text/plain": [
       "<keras.callbacks.History at 0x1c4436b87f0>"
      ]
     },
     "execution_count": 7,
     "metadata": {},
     "output_type": "execute_result"
    }
   ],
   "source": [
    "model.fit(training_datasets, steps_per_epoch= 800/32, epochs = 50, validation_data = testing_datasets, validation_steps = 200/32)"
   ]
  },
  {
   "cell_type": "code",
   "execution_count": 8,
   "id": "1b7e288e-75ca-4456-b529-eed4181605f3",
   "metadata": {},
   "outputs": [],
   "source": [
    "# save model\n",
    "model.save(\"model/model.h5\")\n",
    "model.save_weights(\"model/model_weights.h5\")"
   ]
  },
  {
   "cell_type": "code",
   "execution_count": 9,
   "id": "b79ed2ea-ad15-41cc-996d-8800b5542edc",
   "metadata": {},
   "outputs": [],
   "source": [
    "image_width, image_height = 128, 128\n",
    "model_path = \"model/model.h5\"\n",
    "model_weight_path = \"model/model_weights.h5\"\n",
    "\n",
    "final_model = load_model(model_path)\n",
    "final_model.load_weights(model_weight_path)"
   ]
  },
  {
   "cell_type": "code",
   "execution_count": null,
   "id": "6967944a-70d6-4448-8613-d88c2af41d39",
   "metadata": {},
   "outputs": [],
   "source": []
  }
 ],
 "metadata": {
  "kernelspec": {
   "display_name": "Python 3",
   "language": "python",
   "name": "python3"
  },
  "language_info": {
   "codemirror_mode": {
    "name": "ipython",
    "version": 3
   },
   "file_extension": ".py",
   "mimetype": "text/x-python",
   "name": "python",
   "nbconvert_exporter": "python",
   "pygments_lexer": "ipython3",
   "version": "3.8.8"
  }
 },
 "nbformat": 4,
 "nbformat_minor": 5
}
