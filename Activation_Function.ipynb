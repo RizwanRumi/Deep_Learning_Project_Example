{
 "cells": [
  {
   "cell_type": "code",
   "execution_count": null,
   "id": "b6fdb15f-846a-4057-9bee-bcf7dfbc0fb0",
   "metadata": {},
   "outputs": [],
   "source": [
    "import numpy as np\n",
    "import matplotlib.pyplot as plt\n",
    "%matplotlib inline"
   ]
  },
  {
   "cell_type": "code",
   "execution_count": null,
   "id": "ff99d702-79e2-4a09-9c60-5ebc7d5768d6",
   "metadata": {},
   "outputs": [],
   "source": [
    "random_variable = np.arange(-5, 5, 0.02)"
   ]
  },
  {
   "cell_type": "code",
   "execution_count": null,
   "id": "f9dbe24b-2bb5-4812-a798-fffdb8484de0",
   "metadata": {},
   "outputs": [],
   "source": [
    "def create_plot(function, yaxis = (-1.4, 1.4)):\n",
    "    plt.ylim(yaxis)\n",
    "    plt.locator_params(nbins = 5)\n",
    "    plt.xticks(fontsize = 20)\n",
    "    plt.yticks(fontsize = 20)\n",
    "    plt.axhline(lw = 1, c='black')\n",
    "    plt.axvline(lw = 1, c='black')\n",
    "    plt.grid(alpha = 0.4, ls='-.')\n",
    "    plt.box(on = None)\n",
    "    plt.plot(random_variable, function(random_variable), c = 'r', lw = 3)\n",
    "    plt.show()"
   ]
  },
  {
   "cell_type": "markdown",
   "id": "906c3107-6939-4aab-8c38-59011fa3a953",
   "metadata": {},
   "source": [
    "Activation function is to take decesion after calculating the sum of weights and bias in neuron inputs, whether it will fire or not.\n",
    "\n",
    "Activation function:\n",
    "1. Relu :  Regression\n",
    "2. Softmax : multiclass classification\n",
    "2. Sigmoid : classification"
   ]
  },
  {
   "cell_type": "code",
   "execution_count": null,
   "id": "9f8ea458-2333-4eb9-b122-c26ecfaca1b8",
   "metadata": {},
   "outputs": [],
   "source": [
    "def sigmoid(dummy_variable):\n",
    "    return 1 / (1 + np.exp(-dummy_variable))"
   ]
  },
  {
   "cell_type": "code",
   "execution_count": null,
   "id": "3cb84571-57d3-438b-bc5b-1945db52d02b",
   "metadata": {},
   "outputs": [],
   "source": [
    "create_plot(sigmoid, yaxis = (-1.4, 1.4))"
   ]
  },
  {
   "cell_type": "code",
   "execution_count": null,
   "id": "3d49eb57-817b-4e9a-a960-e0ed758326b8",
   "metadata": {},
   "outputs": [],
   "source": [
    "Relu_function = np.vectorize(lambda random_variable: random_variable if random_variable > 0 else 0)"
   ]
  },
  {
   "cell_type": "code",
   "execution_count": null,
   "id": "31c3cb81-b80f-4847-acbd-7da715d81e57",
   "metadata": {},
   "outputs": [],
   "source": [
    "create_plot(Relu_function)"
   ]
  },
  {
   "cell_type": "code",
   "execution_count": null,
   "id": "c7616558-3d49-4a45-bd1a-eb5938b26de3",
   "metadata": {},
   "outputs": [],
   "source": []
  }
 ],
 "metadata": {
  "kernelspec": {
   "display_name": "Python 3",
   "language": "python",
   "name": "python3"
  },
  "language_info": {
   "codemirror_mode": {
    "name": "ipython",
    "version": 3
   },
   "file_extension": ".py",
   "mimetype": "text/x-python",
   "name": "python",
   "nbconvert_exporter": "python",
   "pygments_lexer": "ipython3",
   "version": "3.8.8"
  }
 },
 "nbformat": 4,
 "nbformat_minor": 5
}
